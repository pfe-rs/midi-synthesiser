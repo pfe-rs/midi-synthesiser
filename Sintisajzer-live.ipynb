{
 "cells": [
  {
   "cell_type": "code",
   "execution_count": null,
   "id": "71d69254-509e-4967-aa51-a4566d60f347",
   "metadata": {
    "tags": []
   },
   "outputs": [],
   "source": [
    "import numpy as np\n",
    "%matplotlib ipympl\n",
    "from matplotlib import pyplot as plt\n",
    "import scipy.signal as signal\n",
    "from scipy.io import wavfile\n",
    "import IPython\n",
    "import pretty_midi\n",
    "from pqdm.processes import pqdm\n",
    "import warnings\n",
    "import sounddevice as sd"
   ]
  },
  {
   "cell_type": "code",
   "execution_count": null,
   "id": "050545c3-acea-4d6a-a893-84be4bf09d43",
   "metadata": {
    "tags": []
   },
   "outputs": [],
   "source": [
    "samplerate = 44.1e3"
   ]
  },
  {
   "cell_type": "code",
   "execution_count": null,
   "id": "2bd6ee3a-71c6-4603-af50-dd0a2ccd68f4",
   "metadata": {
    "tags": []
   },
   "outputs": [],
   "source": [
    "def release_window(t, k = 0.01):\n",
    "    value = np.sqrt(1 - 1/k * t**2)\n",
    "    return np.where(value > 0, value, 0)\n",
    "\n",
    "plt.figure()\n",
    "plt.plot(np.linspace(0, 1, 10000), release_window(np.linspace(0, 1, 10000)));\n",
    "plt.ylim(-0.1, 1.1)"
   ]
  },
  {
   "cell_type": "code",
   "execution_count": null,
   "id": "33d0deae",
   "metadata": {},
   "outputs": [],
   "source": [
    "def falloff_window(t):\n",
    "    return (1 - 1/(1 + np.exp(-(1 * t - 1)))) / (1 - 1/(1 + np.exp(-(1 * 0 - 1))))\n",
    "\n",
    "plt.figure()\n",
    "plt.plot(np.linspace(-10, 10, 10000), falloff_window(np.linspace(-10, 10, 10000)));\n",
    "plt.xlim(-0.01, 3)\n",
    "plt.ylim(-0.1, 1.1)"
   ]
  },
  {
   "cell_type": "code",
   "execution_count": null,
   "id": "e24deea6-3810-4a8a-89a4-885a7371fcfa",
   "metadata": {
    "tags": []
   },
   "outputs": [],
   "source": [
    "piano_window_defaults = (40, 2 * np.pi * 30)\n",
    "\n",
    "def piano_response(t, b, wn):\n",
    "    return np.exp(-b * t) * np.sin(wn * t + 1.5 * np.pi) + 1\n",
    "\n",
    "plt.figure()\n",
    "plt.plot(np.linspace(0, 1, 400000), piano_response(np.linspace(0, 1, 400000), *piano_window_defaults));"
   ]
  },
  {
   "cell_type": "code",
   "execution_count": null,
   "id": "ce4b94ac",
   "metadata": {},
   "outputs": [],
   "source": [
    "timbre_defaults=[1.0,.3,.8,.2,.4,.2,.2,.1,.1]\n",
    "\n",
    "def midi_to_freq(code):\n",
    "    return 2**((code-69)/12.0) * 440\n",
    "\n",
    "def make_note(f0, coeffs = timbre_defaults, ditter = 0.1):\n",
    "    return f0 * (np.arange(len(coeffs)) + 1)\n",
    "\n",
    "print(make_note(midi_to_freq(69)))"
   ]
  },
  {
   "cell_type": "code",
   "execution_count": null,
   "id": "d42a408d",
   "metadata": {},
   "outputs": [],
   "source": [
    "class Nota:\n",
    "    \n",
    "    def __init__(self, freqs, coeffs = timbre_defaults, curr_phases = None, curr_time = 0, curr_release_time = 0, released = False) -> None:\n",
    "        self.freqs = freqs\n",
    "        self.coeffs = coeffs\n",
    "        \n",
    "        if curr_phases is not None:\n",
    "            self.curr_phases = curr_phases\n",
    "        else:\n",
    "            self.curr_phases = np.zeros(len(freqs))\n",
    "            \n",
    "        self.curr_time = curr_time\n",
    "        self.curr_release_time = curr_release_time\n",
    "        self.released = released\n",
    "        \n",
    "        pass"
   ]
  },
  {
   "cell_type": "code",
   "execution_count": null,
   "id": "50eacf99",
   "metadata": {},
   "outputs": [],
   "source": [
    "def make_buffer(notes, samplerate = samplerate, buffer_size = 1024, ditter = 0.01):\n",
    "    dt = 1 / samplerate\n",
    "    ts = np.linspace(0, buffer_size * dt, buffer_size + 1)\n",
    "    buffer = np.zeros(buffer_size + 1)\n",
    "    \n",
    "    new_notes = {}\n",
    "    \n",
    "    for freq, nota in notes.items():\n",
    "                \n",
    "        curr_phases = np.zeros(len(nota.curr_phases))\n",
    "        \n",
    "        for i in range(len(nota.freqs)):\n",
    "        \n",
    "            ps = nota.curr_phases[i] + 2 * np.pi * nota.freqs[i] * ts\n",
    "            ps = np.random.uniform(1 - ditter / 100, 1 + ditter / 100, len(ps)) * ps\n",
    "        \n",
    "            if nota.released:\n",
    "                buffer += nota.coeffs[i] * np.sin(ps) * piano_response(ts + nota.curr_time, *piano_window_defaults) \\\n",
    "                                                      * falloff_window(ts + nota.curr_time) \\\n",
    "                                                      * release_window(ts + nota.curr_release_time)\n",
    "            else:\n",
    "                buffer += nota.coeffs[i] * np.sin(ps) * piano_response(ts + nota.curr_time, *piano_window_defaults) \\\n",
    "                                                      * falloff_window(ts + nota.curr_time)\n",
    "                             \n",
    "            curr_phases[i] = ps[-1] % (2 * np.pi)\n",
    "            \n",
    "        curr_time = (buffer_size + 1) * dt + nota.curr_time\n",
    "        if nota.released:\n",
    "            curr_release_time = (buffer_size + 1) * dt + nota.curr_release_time\n",
    "        \n",
    "            if release_window(curr_release_time) > 0:\n",
    "                new_notes[freq] = Nota(nota.freqs, nota.coeffs, curr_phases, curr_time, curr_release_time, nota.released)\n",
    "        else:\n",
    "            new_notes[freq] = Nota(nota.freqs, nota.coeffs, curr_phases, curr_time, nota.curr_release_time, nota.released)\n",
    "        \n",
    "    return (buffer[:-1], new_notes)"
   ]
  },
  {
   "cell_type": "code",
   "execution_count": null,
   "id": "8863505c",
   "metadata": {},
   "outputs": [],
   "source": [
    "def simulate_instrument(sheet, tmax = 10, samplerate = samplerate, buffer_size = 1024, ditter = 0.01):\n",
    "    sound = np.zeros(0)\n",
    "    t = 0\n",
    "    \n",
    "    notes = {}\n",
    "    \n",
    "    while t < tmax:\n",
    "        for note in sheet:\n",
    "            if t >= note[1][1] and t <= note[1][1] + (buffer_size - 1) / samplerate and note[0] in notes:\n",
    "                notes[note[0]].released = True\n",
    "            if t >= note[1][0] and t <= note[1][0] + (buffer_size - 1) / samplerate:\n",
    "                notes.update({note[0] : Nota(make_note(note[0]))})\n",
    "\n",
    "        (buffer, notes) = make_buffer(notes, samplerate, buffer_size, ditter)\n",
    "        \n",
    "        sound = np.append(sound, buffer)\n",
    "        t += buffer_size / samplerate\n",
    "               \n",
    "    return sound\n",
    "\n",
    "sheet = [\n",
    "    (440, (0, 0.5)),\n",
    "    (493.88, (0, 0.5)),\n",
    "    (440, (0.5, 0.75)),\n",
    "    (440, (1, 1.5)),\n",
    "]\n",
    "\n",
    "sound = simulate_instrument(sheet, 2)\n",
    "\n",
    "plt.figure()\n",
    "plt.plot(sound)\n",
    "\n",
    "IPython.display.Audio(sound, rate=samplerate)"
   ]
  },
  {
   "cell_type": "code",
   "execution_count": null,
   "id": "a9d81fe0",
   "metadata": {},
   "outputs": [],
   "source": [
    "buffer_size = 1024\n",
    "\n",
    "note = [Nota(make_note(440))]\n",
    "\n",
    "ts = np.linspace(0, (buffer_size - 1) / samplerate, buffer_size)\n",
    "\n",
    "plt.figure()\n",
    "\n",
    "X = 200\n",
    "\n",
    "sound = np.zeros(0)\n",
    "\n",
    "for i in range(X):\n",
    "    buffer, note = make_buffer(note, buffer_size = buffer_size)\n",
    "    sound = np.append(sound, buffer)\n",
    "    plt.plot(ts + i * buffer_size / samplerate, buffer[:buffer_size], marker='.')\n",
    "note[0].released = True\n",
    "for i in range(i+1, X + 20):\n",
    "    buffer, note = make_buffer(note, buffer_size = buffer_size)\n",
    "    sound = np.append(sound, buffer)\n",
    "    plt.plot(ts + i * buffer_size / samplerate, buffer[:buffer_size], marker='.')\n",
    "    \n",
    "plt.figure()\n",
    "plt.plot(sound, marker=\"o\")\n",
    "#plt.plot(np.abs(signal.hilbert(sound)))\n",
    "    \n",
    "plt.figure()\n",
    "plt.specgram(sound, Fs = samplerate, scale=\"linear\");\n",
    "\n",
    "IPython.display.Audio(sound, rate=samplerate)   \n",
    "#sd.play(sound, samplerate)"
   ]
  },
  {
   "cell_type": "code",
   "execution_count": null,
   "id": "36921999-fe43-42fc-b27a-891d1fa04859",
   "metadata": {
    "tags": []
   },
   "outputs": [],
   "source": [
    "def make_chord(midi_codes, timbre=timbre_defaults, piano_parameters=piano_window_defaults, duration=0.5):\n",
    "    t = np.linspace(0, duration, int(duration * samplerate))\n",
    "    y = np.zeros_like(t)\n",
    "    for code in midi_codes:\n",
    "        if code is not None:\n",
    "            f0 = midi_to_freq(code)\n",
    "            note = make_note(f0, timbre, t)\n",
    "            y = note * piano_window(np.size(note), samplerate, *piano_parameters)\n",
    "    return t, y\n",
    "\n",
    "t, p = make_chord([69])\n",
    "IPython.display.Audio(p, rate=samplerate)"
   ]
  },
  {
   "cell_type": "code",
   "execution_count": null,
   "id": "de02d9e2-5d1f-4d27-95b2-63f6dc136f7d",
   "metadata": {
    "tags": []
   },
   "outputs": [],
   "source": [
    "midi_data = pretty_midi.PrettyMIDI(\"Just-Can't-Get-Enough.mid\")\n",
    "duration = midi_data.get_end_time()\n",
    "\n",
    "def make_melody(instrument):\n",
    "    sound = np.zeros(int(duration*samplerate+1))\n",
    "    for note in instrument.notes:\n",
    "        _, chord = make_chord([note.pitch], duration=note.end-note.start)\n",
    "        sound[int(note.start*samplerate):int(note.start*samplerate)+len(chord)] += chord\n",
    "    return sound\n",
    "\n",
    "warnings.filterwarnings('ignore')\n",
    "sounds = pqdm(midi_data.instruments, make_melody, n_jobs=len(midi_data.instruments))\n",
    "sound = np.sum(sounds, axis=0)"
   ]
  },
  {
   "cell_type": "code",
   "execution_count": null,
   "id": "17dc59d1-e97d-4c2b-90be-48f1e0227b76",
   "metadata": {
    "tags": []
   },
   "outputs": [],
   "source": [
    "IPython.display.Audio(sound[:np.size(sound)//1], rate=samplerate)"
   ]
  },
  {
   "cell_type": "code",
   "execution_count": null,
   "id": "eabfc415-b63e-4253-b9c2-3781fb62f5db",
   "metadata": {
    "tags": []
   },
   "outputs": [],
   "source": [
    "plt.figure()\n",
    "plt.specgram(sound , Fs = samplerate, NFFT = 1000)\n",
    "plt.ylim(0, 20000);"
   ]
  },
  {
   "cell_type": "code",
   "execution_count": null,
   "id": "4e0d8103-1502-4f9c-bc0f-29c721190d2f",
   "metadata": {},
   "outputs": [],
   "source": [
    "sd.play(generated, samplerate)"
   ]
  },
  {
   "cell_type": "code",
   "execution_count": null,
   "id": "1604162d",
   "metadata": {},
   "outputs": [],
   "source": []
  }
 ],
 "metadata": {
  "kernelspec": {
   "display_name": "Python 3 (ipykernel)",
   "language": "python",
   "name": "python3"
  },
  "language_info": {
   "codemirror_mode": {
    "name": "ipython",
    "version": 3
   },
   "file_extension": ".py",
   "mimetype": "text/x-python",
   "name": "python",
   "nbconvert_exporter": "python",
   "pygments_lexer": "ipython3",
   "version": "3.11.1"
  }
 },
 "nbformat": 4,
 "nbformat_minor": 5
}
